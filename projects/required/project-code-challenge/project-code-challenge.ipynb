{
 "cells": [
  {
   "cell_type": "markdown",
   "metadata": {},
   "source": [
    "<img src=\"http://imgur.com/1ZcRyrc.png\" style=\"float: left; margin: 20px; height: 55px\">\n",
    "\n",
    "# Project 1: Python Coding Exercises\n",
    "\n",
    "_Authors: Joseph Nelson (DC) _\n",
    "\n",
    "---"
   ]
  },
  {
   "cell_type": "markdown",
   "metadata": {},
   "source": [
    "The following code challenges are drawn from common exercises used in technical interviews.\n",
    "\n",
    "Please note that there may be several ways to approach each challenge. If you get stuck, try mapping out your approach in pseudocode first. Finally, while solutions to problems like these may be found online, remember that if you copy/paste code that you can't explain, you'll be missing out on the point of the project. The only way to truly learn a new skill is through practice, trial, and error - we can only help you improve by understanding where you are having trouble."
   ]
  },
  {
   "cell_type": "markdown",
   "metadata": {},
   "source": [
    "### Challenge 1: Largest Palindrome\n",
    "A palindromic number reads the same both ways. For example, 1234321 is a palindrome. The largest palindrome made from the product of two two-digit numbers is 9009 = 91 × 99. Find the largest palindrome made from the product of two three-digit numbers. Afterward, write a brief explanation walking through your code's logic in markdown."
   ]
  },
  {
   "cell_type": "code",
   "execution_count": 34,
   "metadata": {},
   "outputs": [
    {
     "name": "stdout",
     "output_type": "stream",
     "text": [
      "The largest palindrome made from the product of two three digit numbers is 906609, which is found by multiplying 993 and 913\n"
     ]
    }
   ],
   "source": [
    "x = 999\n",
    "y = 999\n",
    "\n",
    "def palendrome_num(num):\n",
    "  p = str(num)\n",
    "  return (p == p[::-1])\n",
    "\n",
    "\n",
    "max_pal = 0\n",
    "max_pal_x = 0\n",
    "max_pal_y = 0\n",
    "\n",
    "while x >= 100:\n",
    "  for y in range(x,100,-1):\n",
    "    if palendrome_num(x*y):\n",
    "      pal = x*y\n",
    "      if pal > max_pal:\n",
    "        max_pal = pal\n",
    "        max_pal_x = x\n",
    "        max_pal_y = y   \n",
    "  x -= 1\n",
    "print(f\"The largest palindrome made from the product of two three digit numbers is {max_pal}, which is found by multiplying {max_pal_x} and {max_pal_y}\")"
   ]
  },
  {
   "cell_type": "markdown",
   "metadata": {},
   "source": [
    "In order to answer this question I needed to first create a function that determined whether or not a number was a palindrome. To do so  I set a variable that would turn the number into a string so that it could be compared. Then, I needed to return whether or not that variable was equal to itself backwards. Once that was done I created a while loop for x >= 100. Within this while loop I have a for loop that evaluates y in the range of (x,100,-1), it is stepping down 1 because I initially set my x and y variables to 999 so that it would not to unnecessary work of looping through every single number if it was able to find the largest two numbers multiplies by one another that would equal a palindrome. Within that for loop I have an if statement that calls my palendrome function (palendrome_num) and passes through the equation x * y. Then within that if statement I have set the variable pal = x * y. After that I need to have another if statement that will help determine whether or not the next palindrome I find is greater than one that I have already found. If so I need to replace my variable of max_pal with the newly found palindrome. Once it reaches a palindrome that is no longer greater than the max_pal it will stop the loop. I also included finding the x and y value that made up the palindrome just to see what they were. Once that was done I printed out the statment that showed the max palindrome along with the x and y that produced that. "
   ]
  },
  {
   "cell_type": "markdown",
   "metadata": {},
   "source": [
    "\n",
    "### Challenge 2: Summation of Primes\n",
    "The sum of the primes below 10 is 2 + 3 + 5 + 7 = 17. Find the sum of all the primes below 2,000. Afterward, write a brief explanation walking through your code's logic in markdown."
   ]
  },
  {
   "cell_type": "code",
   "execution_count": 3,
   "metadata": {},
   "outputs": [
    {
     "name": "stdout",
     "output_type": "stream",
     "text": [
      "The sum of all prime numbers less than 2,000 is 277050\n"
     ]
    }
   ],
   "source": [
    "'''\n",
    "set variable for sum_prime_num\n",
    "what is a prime number\n",
    "loop through numbers in range 2-2000 (you know that 1 is not a prime number by definition) and continuously add each newly \n",
    "found prime number to the sum_prime_num var\n",
    "\n",
    "'''\n",
    "\n",
    "sum_prime_num = 0\n",
    "\n",
    "def is_prime(n):\n",
    "  for i in range(2,n):\n",
    "    if (n%i) == 0:\n",
    "      return False\n",
    "  return True\n",
    "\n",
    "for i in range(2,2000,1):\n",
    "    if is_prime(i):\n",
    "        sum_prime_num += i\n",
    "\n",
    "print(f\"The sum of all prime numbers less than 2,000 is {sum_prime_num}\")"
   ]
  },
  {
   "cell_type": "markdown",
   "metadata": {},
   "source": [
    "Explanation:\n",
    "    In order to find the sum of all prime numbers less than 2,000 I first needed to set a variable that would be able to take in all of the prime numbers to sum them. I labeled this variable sum_prime_num. Then I needed to define what a prime number was. In order to do that I wrote a function, is_prime, containing a for loop, looping through the range of 2 to n number (starting at 2 because by definition 1 is not a prime number). Within that for loop I determine whether or not the number we are testing (n) mod i == 0, in otherwords the remainder of n divided by i is 0 and if so then the for loop should return False, because that means the number is not prime because a prime number is not divisable by anything other than 1 and itself and since n is at the end of our range it will never include that number, therefore it will never test whether or not it is divisible by itself. However, if this is not the case then it will return True, showing that the number is prime. I then created a for loop in order to loop through all numbers less than 2,000. Within that for loop I have an if statement that first passes through the is_prime function, trying to see whether or not the number is prime, and then if it passes that it will add i to the variable I originally created, sum_prime_num, and then continuously loop through, each time adding the newly found prime to the updated value of sum_prime_num."
   ]
  },
  {
   "cell_type": "markdown",
   "metadata": {},
   "source": [
    "### Challenge 3: Multiples of 3 and 5\n",
    "If we list all of the natural numbers below 10 that are multiples of 3 or 5, we get 3, 5, 6, and 9. The sum of these multiples is 23. Find the sum of all the multiples of 3 and 5 below 1,000. Afterward, write a brief explanation walking through your code's logic in markdown."
   ]
  },
  {
   "cell_type": "code",
   "execution_count": 3,
   "metadata": {},
   "outputs": [
    {
     "name": "stdout",
     "output_type": "stream",
     "text": [
      "33165\n"
     ]
    }
   ],
   "source": [
    "sum_multiples = 0\n",
    "\n",
    "for num in range(1, 1000, 1):\n",
    "    if num % 15 == 0:\n",
    "        sum_multiples += num\n",
    "print(sum_multiples)"
   ]
  },
  {
   "cell_type": "markdown",
   "metadata": {},
   "source": [
    "Explanation: In order to find the sum of all multiples of 3 and 5 below 1,000 I first needed to set a variable that could hold the sum of all of the multiples (sum_multiples). Then I created a for loop that would loop through the range of 1 to 1,000 (I could set it to 1,000 because the range wanted everything less than 1,000 not less than and equal to 1,000). Within that for loop I have an if statement that determines whether or not a number (num) divided by 15 has a remainder of 0, in other words both 3 and 5 are multiples. If that is true then that num will be added to the sum_multiples variable and it will go through the loop again, continuously adding a newly found multiple to the constantly updating value of sum_multiples. \n"
   ]
  },
  {
   "cell_type": "markdown",
   "metadata": {},
   "source": [
    "### Challenge 4: String Compressor\n",
    "Implement a method to perform basic string compression using the counts of repeated characters. (This is called run-length encoding.) For example, the string \"aabcccccaaa\" would become a2b1c5a3. If the “compressed” string would not become smaller than the original string, your method should return the original string. You can assume the string has only uppercase and lowercase letters (a–z). Specify whether your solution is case sensitive or case insensitive and what you would need to change to make it the other. Afterward, write a brief explanation walking through your code's logic in markdown."
   ]
  },
  {
   "cell_type": "code",
   "execution_count": 32,
   "metadata": {},
   "outputs": [
    {
     "name": "stdout",
     "output_type": "stream",
     "text": [
      "h4f2t3h2e3\n"
     ]
    }
   ],
   "source": [
    "original_str = 'hhhhffttthheee'\n",
    "str_list = list(original_str.lower())\n",
    "count = 1\n",
    "compressed_str = ''\n",
    "\n",
    "for i in range(1, len(str_list)):\n",
    "    if str_list[i] == str_list[i-1]:\n",
    "        count += 1\n",
    "    else:\n",
    "        compressed_str += str_list[i-1] + str(count)\n",
    "        count = 1\n",
    "compressed_str += str_list[i-1] + str(count)\n",
    "\n",
    "if len(compressed_str) < len(original_str):\n",
    "    print(compressed_str)\n",
    "else:\n",
    "    print(original_str)"
   ]
  },
  {
   "cell_type": "markdown",
   "metadata": {},
   "source": [
    "Explanation:\n",
    "    In order to answer this question I first needed to set a variable for the string that we want to evaluate, then a string that puts the string into a list format, because I wanted my code to not be case sensitive I chose to make the string convert to all lowercase within the list variable. I also needed a variable for the output of the function, which would be the compressed string. Once I had those variables I then needed to set a count variable that would be used to create the number that represented the number of letters. I set this count to 1 which will be explained later on.\n",
    "   Once I set the variables I started a for loop for the range of the length of the variable that I set my string list equal to (str_list). Within that for loop I added an if statement that would have the function go through and see whether or not the letter in the list matches the letter that comes before that in the list and if it does then it would add 1 to the count. if it did not match the previous letter then it would move on to the next letter and start the process over again. Within the else statement I needed to set the count = 1 so that once the string ended it would include the last letter in the count.\n",
    "   Once this was complete and the compressed string was created I needed to determine whether or not this new compressed string was less than the original string, if it was then it prints out that newly formed string, if not it will print out the original string."
   ]
  },
  {
   "cell_type": "markdown",
   "metadata": {},
   "source": [
    "### *BONUS* Challenge: FizzBuzz\n",
    "Write a program that prints all of the numbers from 1 to 100. For multiples of 3, instead of the number, print \"Fizz;\" for multiples of 5, print \"Buzz.\" For numbers that are multiples of both 3 and 5, print \"FizzBuzz.\" Afterward, write a brief explanation walking through your code's logic in markdown."
   ]
  },
  {
   "cell_type": "code",
   "execution_count": 5,
   "metadata": {},
   "outputs": [
    {
     "name": "stdout",
     "output_type": "stream",
     "text": [
      "1\n",
      "2\n",
      "Fizz\n",
      "4\n",
      "Buzz\n",
      "Fizz\n",
      "7\n",
      "8\n",
      "Fizz\n",
      "Buzz\n",
      "11\n",
      "Fizz\n",
      "13\n",
      "14\n",
      "FizzBuzz\n",
      "16\n",
      "17\n",
      "Fizz\n",
      "19\n",
      "Buzz\n",
      "Fizz\n",
      "22\n",
      "23\n",
      "Fizz\n",
      "Buzz\n",
      "26\n",
      "Fizz\n",
      "28\n",
      "29\n",
      "FizzBuzz\n",
      "31\n",
      "32\n",
      "Fizz\n",
      "34\n",
      "Buzz\n",
      "Fizz\n",
      "37\n",
      "38\n",
      "Fizz\n",
      "Buzz\n",
      "41\n",
      "Fizz\n",
      "43\n",
      "44\n",
      "FizzBuzz\n",
      "46\n",
      "47\n",
      "Fizz\n",
      "49\n",
      "Buzz\n",
      "Fizz\n",
      "52\n",
      "53\n",
      "Fizz\n",
      "Buzz\n",
      "56\n",
      "Fizz\n",
      "58\n",
      "59\n",
      "FizzBuzz\n",
      "61\n",
      "62\n",
      "Fizz\n",
      "64\n",
      "Buzz\n",
      "Fizz\n",
      "67\n",
      "68\n",
      "Fizz\n",
      "Buzz\n",
      "71\n",
      "Fizz\n",
      "73\n",
      "74\n",
      "FizzBuzz\n",
      "76\n",
      "77\n",
      "Fizz\n",
      "79\n",
      "Buzz\n",
      "Fizz\n",
      "82\n",
      "83\n",
      "Fizz\n",
      "Buzz\n",
      "86\n",
      "Fizz\n",
      "88\n",
      "89\n",
      "FizzBuzz\n",
      "91\n",
      "92\n",
      "Fizz\n",
      "94\n",
      "Buzz\n",
      "Fizz\n",
      "97\n",
      "98\n",
      "Fizz\n",
      "Buzz\n"
     ]
    }
   ],
   "source": [
    "for num in range(1, 101, 1):\n",
    "    if num % 15 == 0:\n",
    "        print('FizzBuzz')\n",
    "    elif num % 5 == 0:\n",
    "        print('Buzz')\n",
    "    elif num % 3 == 0:\n",
    "        print('Fizz')\n",
    "    else:\n",
    "        print(num)"
   ]
  },
  {
   "cell_type": "markdown",
   "metadata": {},
   "source": [
    "Explanation: In order to answer this question I basically just did an extended version of what was done in Challenge 3. In this challenge it wanted to include the number 100 though, so I had to set the range to 101. Instead of only trying to find if something was divisible by 15, I also needed to do that with 3 and 5. Also, rather than continously add these values, I wanted to print everything out. So, a simple if elif statement within the for loop that returned the word associated with either divisble by 15 (FizzBuzz), 5 (Buzz), or 3 (Fizz) if it was found that, that number would in fact give a remainder of 0. If it did not pass any of those 3 statements then it just needed to print out the number itself. "
   ]
  },
  {
   "cell_type": "code",
   "execution_count": null,
   "metadata": {},
   "outputs": [],
   "source": []
  }
 ],
 "metadata": {
  "anaconda-cloud": {},
  "kernelspec": {
   "display_name": "Python 3 (ipykernel)",
   "language": "python",
   "name": "python3"
  },
  "language_info": {
   "codemirror_mode": {
    "name": "ipython",
    "version": 3
   },
   "file_extension": ".py",
   "mimetype": "text/x-python",
   "name": "python",
   "nbconvert_exporter": "python",
   "pygments_lexer": "ipython3",
   "version": "3.9.12"
  }
 },
 "nbformat": 4,
 "nbformat_minor": 2
}
